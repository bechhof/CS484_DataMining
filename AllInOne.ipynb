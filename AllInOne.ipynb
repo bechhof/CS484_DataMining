{
 "cells": [
  {
   "cell_type": "code",
   "execution_count": 1,
   "metadata": {
    "collapsed": true
   },
   "outputs": [],
   "source": [
    "import zipfile\n",
    "with zipfile.ZipFile(\"CPS_data_even_years.zip\",\"r\") as zip_ref:\n",
    "    zip_ref.extractall(\"CPS_data_even_years\")\n",
    "with zipfile.ZipFile(\"output4909048052568705413.zip\",\"r\") as zip_ref:\n",
    "    zip_ref.extractall(\"ESS_Cumulative\")"
   ]
  },
  {
   "cell_type": "code",
   "execution_count": 2,
   "metadata": {
    "collapsed": true
   },
   "outputs": [],
   "source": [
    "#PRE-PROCESSING \n",
    "%matplotlib inline\n",
    "import numpy as np\n",
    "import pandas as pd\n",
    "import matplotlib.pyplot as plt\n",
    "import seaborn as sns\n",
    "sns.set_context(\"talk\",font_scale=2)"
   ]
  },
  {
   "cell_type": "code",
   "execution_count": 3,
   "metadata": {
    "collapsed": true
   },
   "outputs": [],
   "source": [
    "np.random.seed(47)"
   ]
  },
  {
   "cell_type": "code",
   "execution_count": 5,
   "metadata": {
    "collapsed": true
   },
   "outputs": [],
   "source": [
    "CPS_data_frame = pd.read_stata(\"CPS_data_even_years/CPS_data.dta\",\n",
    "                               convert_categoricals=False, \n",
    "                               convert_missing=False)"
   ]
  },
  {
   "cell_type": "code",
   "execution_count": 6,
   "metadata": {
    "collapsed": true
   },
   "outputs": [],
   "source": [
    "CPS_data_frame = CPS_data_frame[(10000 < \\\n",
    "                                 CPS_data_frame['inctot']) & (CPS_data_frame['inctot'] < \\\n",
    "                                                              500000)] "
   ]
  },
  {
   "cell_type": "code",
   "execution_count": 45,
   "metadata": {
    "collapsed": true
   },
   "outputs": [],
   "source": [
    "CPS_data_frame = CPS_data_frame[CPS_data_frame['age'] >= 30] "
   ]
  },
  {
   "cell_type": "code",
   "execution_count": 46,
   "metadata": {
    "collapsed": true
   },
   "outputs": [],
   "source": [
    "CPS_data_frame['worker'] = (CPS_data_frame['labforce'] == 2).astype(int)\n",
    "CPS_data_frame['female'] = (CPS_data_frame['sex'] == 2).astype(int)\n",
    "CPS_data_frame['loginc'] = np.log(CPS_data_frame['inctot'])"
   ]
  },
  {
   "cell_type": "code",
   "execution_count": 47,
   "metadata": {
    "collapsed": true
   },
   "outputs": [],
   "source": [
    "CPS_data_frame['college'] = (CPS_data_frame['educ99'] >= 15).astype(int)"
   ]
  },
  {
   "cell_type": "code",
   "execution_count": 48,
   "metadata": {
    "collapsed": true
   },
   "outputs": [],
   "source": [
    "CPS_data_frame['masters'] = (CPS_data_frame['educ99'] == 16).astype(int)"
   ]
  },
  {
   "cell_type": "code",
   "execution_count": 49,
   "metadata": {
    "collapsed": true
   },
   "outputs": [],
   "source": [
    "CPS_data_frame['high_school'] = (CPS_data_frame['educ99'] >= 10).astype(int)"
   ]
  },
  {
   "cell_type": "code",
   "execution_count": 50,
   "metadata": {
    "collapsed": true
   },
   "outputs": [],
   "source": [
    "CPS_data_frame['professional_degree'] = (CPS_data_frame['educ99'] == 17).astype(int)"
   ]
  },
  {
   "cell_type": "code",
   "execution_count": 51,
   "metadata": {
    "collapsed": false
   },
   "outputs": [],
   "source": [
    "CPS_data_frame['doctorate'] = (CPS_data_frame['educ99'] == 18).astype(int)"
   ]
  },
  {
   "cell_type": "code",
   "execution_count": 68,
   "metadata": {
    "collapsed": true
   },
   "outputs": [],
   "source": [
    "CPS_data_frame['white'] = (CPS_data_frame['race'] == 100).astype(int)"
   ]
  },
  {
   "cell_type": "code",
   "execution_count": 69,
   "metadata": {
    "collapsed": true
   },
   "outputs": [],
   "source": [
    "CPS_data_frame['not_hispanic'] = (CPS_data_frame['hispan'] == 0).astype(int)"
   ]
  },
  {
   "cell_type": "code",
   "execution_count": 73,
   "metadata": {
    "collapsed": true
   },
   "outputs": [],
   "source": [
    "list_of_features = ['loginc', 'age', 'female', 'worker', 'white', 'not_hispanic',\n",
    "                    'college', 'masters', 'high_school', 'professional_degree', 'doctorate']"
   ]
  },
  {
   "cell_type": "code",
   "execution_count": 74,
   "metadata": {
    "collapsed": false
   },
   "outputs": [],
   "source": [
    "temp_df = CPS_data_frame[list_of_features]"
   ]
  },
  {
   "cell_type": "code",
   "execution_count": 75,
   "metadata": {
    "collapsed": true
   },
   "outputs": [],
   "source": [
    "temp_df = temp_df[temp_df['age'] <= 34]"
   ]
  },
  {
   "cell_type": "code",
   "execution_count": 78,
   "metadata": {
    "collapsed": true
   },
   "outputs": [],
   "source": [
    "temp_df = temp_df.dropna()"
   ]
  },
  {
   "cell_type": "code",
   "execution_count": 79,
   "metadata": {
    "collapsed": true
   },
   "outputs": [],
   "source": [
    "X = temp_df.drop('loginc', 1).values\n",
    "y = (temp_df['loginc']).values"
   ]
  },
  {
   "cell_type": "code",
   "execution_count": 80,
   "metadata": {
    "collapsed": true
   },
   "outputs": [],
   "source": [
    "temp_df2 = CPS_data_frame[list_of_features]\n",
    "temp_df2 = temp_df2[temp_df2['age'] <= 39]\n",
    "temp_df2 = temp_df2[temp_df2['age'] >= 35]\n",
    "temp_df2 = temp_df2.dropna()"
   ]
  },
  {
   "cell_type": "code",
   "execution_count": 81,
   "metadata": {
    "collapsed": true
   },
   "outputs": [],
   "source": [
    "X_test = temp_df2.drop('loginc', 1).values\n",
    "y_test = (temp_df2['loginc']).values"
   ]
  },
  {
   "cell_type": "code",
   "execution_count": 82,
   "metadata": {
    "collapsed": false
   },
   "outputs": [
    {
     "name": "stdout",
     "output_type": "stream",
     "text": [
      "Cross-validation scores for Regression Tree of max_depth 2:\n",
      "[ 0.24869181  0.24268683  0.24201019  0.26031553]\n",
      "Cross-validation scores for Regression Tree of max_depth 5:\n",
      "[ 0.25856638  0.25037678  0.25136076  0.27223539]\n"
     ]
    }
   ],
   "source": [
    "from sklearn import tree\n",
    "from sklearn.model_selection import cross_val_score\n",
    "from sklearn.model_selection import KFold\n",
    "\n",
    "\n",
    "regr_1 = tree.DecisionTreeRegressor(max_depth=4)\n",
    "regr_2 = tree.DecisionTreeRegressor(max_depth=5)\n",
    "\n",
    "\n",
    "\n",
    "kfold = KFold(n_splits=4, shuffle=True, random_state=47)\n",
    "print(\"Cross-validation scores for Regression Tree of max_depth 2:\\n{}\".format(\n",
    "    cross_val_score(regr_1, X, y, cv=kfold)))\n",
    "\n",
    "print(\"Cross-validation scores for Regression Tree of max_depth 5:\\n{}\".format(\n",
    "    cross_val_score(regr_2, X, y, cv=kfold)))"
   ]
  },
  {
   "cell_type": "code",
   "execution_count": 83,
   "metadata": {
    "collapsed": false
   },
   "outputs": [
    {
     "name": "stdout",
     "output_type": "stream",
     "text": [
      "0.250604281042\n",
      "0.261050900752\n"
     ]
    }
   ],
   "source": [
    "regr_1.fit(X,y)\n",
    "print(regr_1.score(X,y))\n",
    "print(regr_1.score(X_test,y_test))"
   ]
  },
  {
   "cell_type": "code",
   "execution_count": 84,
   "metadata": {
    "collapsed": false
   },
   "outputs": [
    {
     "name": "stdout",
     "output_type": "stream",
     "text": [
      "0.262165680839\n",
      "0.271610874327\n"
     ]
    }
   ],
   "source": [
    "regr_2.fit(X,y)\n",
    "print(regr_2.score(X,y))\n",
    "print(regr_2.score(X_test,y_test))"
   ]
  },
  {
   "cell_type": "code",
   "execution_count": 85,
   "metadata": {
    "collapsed": false
   },
   "outputs": [
    {
     "name": "stdout",
     "output_type": "stream",
     "text": [
      "Cross-validation scores for AdaBoost with 100 estimators:\n",
      "[ 0.21369035  0.21420788  0.23026047  0.23813101]\n"
     ]
    }
   ],
   "source": [
    "from sklearn.ensemble import AdaBoostRegressor\n",
    "\n",
    "regr_1_AdaBoost = AdaBoostRegressor(n_estimators = 100)\n",
    "\n",
    "print(\"Cross-validation scores for AdaBoost with 100 estimators:\\n{}\".format(\n",
    "    cross_val_score(regr_1_AdaBoost, X, y, cv=kfold)))"
   ]
  },
  {
   "cell_type": "code",
   "execution_count": 86,
   "metadata": {
    "collapsed": false
   },
   "outputs": [
    {
     "name": "stdout",
     "output_type": "stream",
     "text": [
      "0.228490771463\n",
      "0.245468204933\n"
     ]
    }
   ],
   "source": [
    "regr_1_AdaBoost.fit(X,y)\n",
    "print(regr_1_AdaBoost.score(X,y))\n",
    "print(regr_1_AdaBoost.score(X_test,y_test))"
   ]
  },
  {
   "cell_type": "code",
   "execution_count": 87,
   "metadata": {
    "collapsed": false
   },
   "outputs": [
    {
     "name": "stdout",
     "output_type": "stream",
     "text": [
      "Cross-validation scores for RandomForest with 100 estimators:\n",
      "[ 0.26564672  0.25646533  0.26126771  0.27803155]\n"
     ]
    }
   ],
   "source": [
    "from sklearn.ensemble import RandomForestRegressor\n",
    "\n",
    "regr_1_RF = RandomForestRegressor(n_estimators = 100)\n",
    "\n",
    "print(\"Cross-validation scores for RandomForest with 100 estimators:\\n{}\".format(\n",
    "    cross_val_score(regr_1_RF, X, y, cv=kfold)))"
   ]
  },
  {
   "cell_type": "code",
   "execution_count": 88,
   "metadata": {
    "collapsed": false
   },
   "outputs": [
    {
     "name": "stdout",
     "output_type": "stream",
     "text": [
      "0.285597880184\n",
      "0.291952151432\n"
     ]
    }
   ],
   "source": [
    "regr_1_RF.fit(X,y)\n",
    "print(regr_1_RF.score(X,y))\n",
    "print(regr_1_RF.score(X_test,y_test))"
   ]
  },
  {
   "cell_type": "code",
   "execution_count": 89,
   "metadata": {
    "collapsed": false
   },
   "outputs": [
    {
     "name": "stdout",
     "output_type": "stream",
     "text": [
      "Cross-validation scores for Backpropogation with default settings:\n",
      "[ 0.26490109  0.25916269  0.25994496  0.27709341]\n"
     ]
    }
   ],
   "source": [
    "from sklearn.neural_network import MLPRegressor\n",
    "\n",
    "regr_1_MLP = MLPRegressor(solver='lbfgs', random_state=47, hidden_layer_sizes=[10])\n",
    "\n",
    "\n",
    "print(\"Cross-validation scores for Backpropogation with default settings:\\n{}\".format(\n",
    "    cross_val_score(regr_1_MLP, X, y, cv=kfold)))"
   ]
  },
  {
   "cell_type": "code",
   "execution_count": 92,
   "metadata": {
    "collapsed": false
   },
   "outputs": [
    {
     "name": "stdout",
     "output_type": "stream",
     "text": [
      "0.251309769913\n",
      "0.207919493377\n"
     ]
    }
   ],
   "source": [
    "regr_1_MLP.fit(X,y)\n",
    "print(regr_1_MLP.score(X,y))\n",
    "regr_1_MLP.fit(X,y)\n",
    "print(regr_1_MLP.score(X_test,y_test))"
   ]
  },
  {
   "cell_type": "code",
   "execution_count": 111,
   "metadata": {
    "collapsed": true
   },
   "outputs": [],
   "source": [
    "ESS_data_frame = pd.read_stata(\"ESS_Cumulative/ESS1-6e01_1_F1.dta\",\n",
    "                               convert_categoricals=False, \n",
    "                               convert_missing=False)"
   ]
  },
  {
   "cell_type": "code",
   "execution_count": 122,
   "metadata": {
    "collapsed": false
   },
   "outputs": [],
   "source": [
    "ESS_data_frame = ESS_data_frame[ESS_data_frame['agea'] <= 53] \n",
    "ESS_data_frame = ESS_data_frame[ESS_data_frame['agea'] >= 30] "
   ]
  },
  {
   "cell_type": "code",
   "execution_count": 141,
   "metadata": {
    "collapsed": false
   },
   "outputs": [],
   "source": [
    "ESS_data_frame['female'] = (ESS_data_frame['gndr'] == 2).astype(int)\n",
    "\n",
    "ESS_data_frame['born_in_country'] = (ESS_data_frame['brncntr'] == 1).astype(int)\n",
    "\n",
    "ESS_data_frame['college'] = (ESS_data_frame['eisced'] == 6).astype(int)\n",
    "ESS_data_frame['post_college'] = (ESS_data_frame['eisced'] == 7).astype(int)\n",
    "\n",
    "ESS_data_frame['father_college'] = (ESS_data_frame['eiscedf'] == 6).astype(int)\n",
    "ESS_data_frame['father_post_college'] = (ESS_data_frame['eiscedf'] == 7).astype(int)\n",
    "\n",
    "ESS_data_frame['mother_college'] = (ESS_data_frame['eiscedm'] == 6).astype(int)\n",
    "ESS_data_frame['mother_post_college'] = (ESS_data_frame['eiscedm'] == 7).astype(int)\n",
    "\n",
    "ESS_data_frame['partner_college'] = (ESS_data_frame['eiscedp'] == 6).astype(int)\n",
    "ESS_data_frame['partner_post_college'] = (ESS_data_frame['eiscedp'] == 7).astype(int)"
   ]
  },
  {
   "cell_type": "code",
   "execution_count": null,
   "metadata": {
    "collapsed": true
   },
   "outputs": [],
   "source": []
  },
  {
   "cell_type": "code",
   "execution_count": 142,
   "metadata": {
    "collapsed": false
   },
   "outputs": [],
   "source": [
    "ESS_features = ['hinctnta', 'agea', 'female', 'born_in_country', 'college', 'post_college',\n",
    "                'father_college', 'father_post_college', \n",
    "                'mother_college', 'mother_post_college',\n",
    "                'partner_college', 'partner_post_college']"
   ]
  },
  {
   "cell_type": "code",
   "execution_count": 143,
   "metadata": {
    "collapsed": false
   },
   "outputs": [],
   "source": [
    "ESS_temp_df = ESS_data_frame[ESS_features]\n",
    "ESS_temp_df = ESS_temp_df.dropna()"
   ]
  },
  {
   "cell_type": "code",
   "execution_count": 144,
   "metadata": {
    "collapsed": false
   },
   "outputs": [
    {
     "data": {
      "text/plain": [
       "(48736, 12)"
      ]
     },
     "execution_count": 144,
     "metadata": {},
     "output_type": "execute_result"
    }
   ],
   "source": [
    "ESS_temp_df.shape"
   ]
  },
  {
   "cell_type": "code",
   "execution_count": 149,
   "metadata": {
    "collapsed": false
   },
   "outputs": [],
   "source": [
    "from sklearn.model_selection import train_test_split\n",
    "\n",
    "ESS_X_train, ESS_X_test, ESS_y_train, ESS_y_test = train_test_split(\n",
    "    ESS_temp_df.drop('hinctnta', 1), ESS_temp_df['hinctnta'], random_state = 47)"
   ]
  },
  {
   "cell_type": "code",
   "execution_count": 189,
   "metadata": {
    "collapsed": false
   },
   "outputs": [
    {
     "name": "stdout",
     "output_type": "stream",
     "text": [
      "Cross-validation scores for Decision Tree of max_depth 2:\n",
      "[ 0.1509083   0.14456117  0.1476253   0.1466404 ]\n",
      "Cross-validation scores for Decision Tree of max_depth 5:\n",
      "[ 0.14532721  0.14401401  0.14313854  0.1456555 ]\n"
     ]
    }
   ],
   "source": [
    "class_tree_1 = tree.DecisionTreeClassifier(max_depth=4)\n",
    "class_tree_2 = tree.DecisionTreeClassifier(max_depth=5)\n",
    "\n",
    "kfold = KFold(n_splits=4, shuffle=True, random_state=47)\n",
    "print(\"Cross-validation scores for Decision Tree of max_depth 2:\\n{}\".format(\n",
    "    cross_val_score(class_tree_1, ESS_X_train, ESS_y_train, cv=kfold, scoring='f1_micro')))\n",
    "\n",
    "print(\"Cross-validation scores for Decision Tree of max_depth 5:\\n{}\".format(\n",
    "    cross_val_score(class_tree_2, ESS_X_train, ESS_y_train, cv=kfold, scoring='f1_micro')))"
   ]
  },
  {
   "cell_type": "code",
   "execution_count": 169,
   "metadata": {
    "collapsed": false
   },
   "outputs": [
    {
     "name": "stdout",
     "output_type": "stream",
     "text": [
      "0.150470562486\n",
      "0.150114904793\n"
     ]
    }
   ],
   "source": [
    "class_tree_1.fit(ESS_X_train, ESS_y_train)\n",
    "print(class_tree_1.score(ESS_X_train, ESS_y_train))\n",
    "print(class_tree_1.score(ESS_X_test, ESS_y_test))"
   ]
  },
  {
   "cell_type": "code",
   "execution_count": 170,
   "metadata": {
    "collapsed": false
   },
   "outputs": [
    {
     "name": "stdout",
     "output_type": "stream",
     "text": [
      "0.153698840009\n",
      "0.152659225213\n"
     ]
    }
   ],
   "source": [
    "class_tree_2.fit(ESS_X_train, ESS_y_train)\n",
    "print(class_tree_2.score(ESS_X_train, ESS_y_train))\n",
    "print(class_tree_2.score(ESS_X_test, ESS_y_test))"
   ]
  },
  {
   "cell_type": "code",
   "execution_count": 175,
   "metadata": {
    "collapsed": false
   },
   "outputs": [
    {
     "name": "stdout",
     "output_type": "stream",
     "text": [
      "Cross-validation scores for AdaBoost with 100 estimators:\n",
      "[ 0.1495951   0.14718757  0.14718757  0.14784417]\n"
     ]
    }
   ],
   "source": [
    "from sklearn.ensemble import AdaBoostClassifier\n",
    "\n",
    "class_AdaBoost_1 = AdaBoostClassifier(n_estimators = 100)\n",
    "\n",
    "print(\"Cross-validation scores for AdaBoost with 100 estimators:\\n{}\".format(\n",
    "    cross_val_score(class_AdaBoost_1, ESS_X_train, ESS_y_train, cv=kfold)))"
   ]
  },
  {
   "cell_type": "code",
   "execution_count": 177,
   "metadata": {
    "collapsed": false
   },
   "outputs": [
    {
     "name": "stdout",
     "output_type": "stream",
     "text": [
      "Cross-validation scores for RandomForest with 100 estimators:\n",
      "[ 0.13504049  0.13066316  0.13318013  0.13318013]\n"
     ]
    }
   ],
   "source": [
    "from sklearn.ensemble import RandomForestClassifier\n",
    "\n",
    "class_RF_1 = RandomForestClassifier(n_estimators = 100)\n",
    "\n",
    "print(\"Cross-validation scores for RandomForest with 100 estimators:\\n{}\".format(\n",
    "    cross_val_score(class_RF_1, ESS_X_train, ESS_y_train, cv=kfold)))"
   ]
  },
  {
   "cell_type": "code",
   "execution_count": 180,
   "metadata": {
    "collapsed": false
   },
   "outputs": [
    {
     "name": "stdout",
     "output_type": "stream",
     "text": [
      "Cross-validation scores for Backpropagation:\n",
      "[ 0.1479536   0.14871963  0.14948566  0.14784417]\n"
     ]
    }
   ],
   "source": [
    "from sklearn.neural_network import MLPClassifier\n",
    "\n",
    "class_MLP_1 = MLPClassifier(solver = 'lbfgs', random_state=47)\n",
    "\n",
    "print(\"Cross-validation scores for Backpropagation:\\n{}\".format(\n",
    "    cross_val_score(class_MLP_1, ESS_X_train, ESS_y_train, cv=kfold)))"
   ]
  },
  {
   "cell_type": "code",
   "execution_count": 181,
   "metadata": {
    "collapsed": true
   },
   "outputs": [],
   "source": [
    "from sklearn.naive_bayes import GaussianNB"
   ]
  },
  {
   "cell_type": "code",
   "execution_count": 184,
   "metadata": {
    "collapsed": false
   },
   "outputs": [
    {
     "name": "stdout",
     "output_type": "stream",
     "text": [
      "Cross-validation scores for Naive Bayes:\n",
      "[ 0.12256511  0.1291311   0.12738017  0.12628584]\n"
     ]
    }
   ],
   "source": [
    "nb_classifier_1 = GaussianNB()\n",
    "\n",
    "print(\"Cross-validation scores for Naive Bayes:\\n{}\".format(\n",
    "    cross_val_score(nb_classifier_1, ESS_X_train, ESS_y_train, cv=kfold)))"
   ]
  },
  {
   "cell_type": "code",
   "execution_count": 185,
   "metadata": {
    "collapsed": true
   },
   "outputs": [],
   "source": [
    "cross_val_score?"
   ]
  },
  {
   "cell_type": "code",
   "execution_count": null,
   "metadata": {
    "collapsed": true
   },
   "outputs": [],
   "source": []
  }
 ],
 "metadata": {
  "anaconda-cloud": {},
  "kernelspec": {
   "display_name": "Python [conda root]",
   "language": "python",
   "name": "conda-root-py"
  },
  "language_info": {
   "codemirror_mode": {
    "name": "ipython",
    "version": 3
   },
   "file_extension": ".py",
   "mimetype": "text/x-python",
   "name": "python",
   "nbconvert_exporter": "python",
   "pygments_lexer": "ipython3",
   "version": "3.5.2"
  }
 },
 "nbformat": 4,
 "nbformat_minor": 1
}
