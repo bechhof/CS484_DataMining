{
 "cells": [
  {
   "cell_type": "code",
   "execution_count": 49,
   "metadata": {
    "collapsed": true
   },
   "outputs": [],
   "source": [
    "import numpy as np\n",
    "import pandas as pd\n",
    "import matplotlib.pyplot as plt\n",
    "import seaborn as sns"
   ]
  },
  {
   "cell_type": "code",
   "execution_count": 40,
   "metadata": {
    "collapsed": true
   },
   "outputs": [],
   "source": [
    "ESS_data_frame = pd.read_stata(\"ESS_Cumulative/ESS1-6e01_1_F1.dta\",\n",
    "                               convert_categoricals=False, \n",
    "                               convert_missing=False)"
   ]
  },
  {
   "cell_type": "code",
   "execution_count": 41,
   "metadata": {
    "collapsed": false
   },
   "outputs": [
    {
     "data": {
      "text/plain": [
       "['cntry',\n",
       " 'cname',\n",
       " 'cedition',\n",
       " 'cproddat',\n",
       " 'cseqno',\n",
       " 'name',\n",
       " 'essround',\n",
       " 'edition',\n",
       " 'idno',\n",
       " 'dweight',\n",
       " 'pspwght',\n",
       " 'pweight',\n",
       " 'happy',\n",
       " 'sclmeet',\n",
       " 'inmdisc',\n",
       " 'sclact',\n",
       " 'crmvct',\n",
       " 'aesfdrk',\n",
       " 'brghmwr',\n",
       " 'brghmef',\n",
       " 'crvctwr',\n",
       " 'crvctef',\n",
       " 'trrenyr',\n",
       " 'trrcnyr',\n",
       " 'trrprsn',\n",
       " 'trrtort',\n",
       " 'health',\n",
       " 'hlthhmp',\n",
       " 'rlgblg',\n",
       " 'rlgdnm',\n",
       " 'rlgblge',\n",
       " 'rlgdnme',\n",
       " 'rlgdgr',\n",
       " 'rlgatnd',\n",
       " 'pray',\n",
       " 'dscrgrp',\n",
       " 'dscrrce',\n",
       " 'dscrntn',\n",
       " 'dscrrlg',\n",
       " 'dscrlng',\n",
       " 'dscretn',\n",
       " 'dscrage',\n",
       " 'dscrgnd',\n",
       " 'dscrsex',\n",
       " 'dscrdsb',\n",
       " 'dscroth',\n",
       " 'dscrdk',\n",
       " 'dscrref',\n",
       " 'dscrnap',\n",
       " 'dscrna',\n",
       " 'ctzcntr',\n",
       " 'ctzship',\n",
       " 'ctzshipa',\n",
       " 'ctzshipb',\n",
       " 'ctzshipc',\n",
       " 'brncntr',\n",
       " 'cntbrth',\n",
       " 'cntbrtha',\n",
       " 'cntbrthb',\n",
       " 'cntbrthc',\n",
       " 'livecntr',\n",
       " 'livecnta',\n",
       " 'lnghoma',\n",
       " 'lnghom1',\n",
       " 'lnghomb',\n",
       " 'lnghom2',\n",
       " 'blgetmg',\n",
       " 'facntr',\n",
       " 'facntn',\n",
       " 'fbrncnt',\n",
       " 'fbrncnta',\n",
       " 'fbrncntb',\n",
       " 'mocntr',\n",
       " 'mocntn',\n",
       " 'mbrncnt',\n",
       " 'mbrncnta',\n",
       " 'mbrncntb',\n",
       " 'hhmmb',\n",
       " 'gndr',\n",
       " 'gndr2',\n",
       " 'gndr3',\n",
       " 'gndr4',\n",
       " 'gndr5',\n",
       " 'gndr6',\n",
       " 'gndr7',\n",
       " 'gndr8',\n",
       " 'gndr9',\n",
       " 'gndr10',\n",
       " 'gndr11',\n",
       " 'gndr12',\n",
       " 'gndr13',\n",
       " 'gndr14',\n",
       " 'gndr15',\n",
       " 'gndr16',\n",
       " 'gndr17',\n",
       " 'gndr18',\n",
       " 'yrbrn',\n",
       " 'agea',\n",
       " 'yrbrn2',\n",
       " 'yrbrn3',\n",
       " 'yrbrn4',\n",
       " 'yrbrn5',\n",
       " 'yrbrn6',\n",
       " 'yrbrn7',\n",
       " 'yrbrn8',\n",
       " 'yrbrn9',\n",
       " 'yrbrn10',\n",
       " 'yrbrn11',\n",
       " 'yrbrn12',\n",
       " 'yrbrn13',\n",
       " 'yrbrn14',\n",
       " 'yrbrn15',\n",
       " 'yrbrn16',\n",
       " 'yrbrn17',\n",
       " 'yrbrn18',\n",
       " 'rship2',\n",
       " 'rshipa2',\n",
       " 'rship3',\n",
       " 'rshipa3',\n",
       " 'rship4',\n",
       " 'rshipa4',\n",
       " 'rship5',\n",
       " 'rshipa5',\n",
       " 'rship6',\n",
       " 'rshipa6',\n",
       " 'rship7',\n",
       " 'rshipa7',\n",
       " 'rship8',\n",
       " 'rshipa8',\n",
       " 'rship9',\n",
       " 'rshipa9',\n",
       " 'rship10',\n",
       " 'rshipa10',\n",
       " 'rship11',\n",
       " 'rshipa11',\n",
       " 'rship12',\n",
       " 'rshipa12',\n",
       " 'rship13',\n",
       " 'rshipa13',\n",
       " 'rship14',\n",
       " 'rshipa14',\n",
       " 'rship15',\n",
       " 'rshipa15',\n",
       " 'rship16',\n",
       " 'rshipa16',\n",
       " 'rship17',\n",
       " 'rshipa17',\n",
       " 'rship18',\n",
       " 'rshipa18',\n",
       " 'partner',\n",
       " 'rshpsts',\n",
       " 'marsts',\n",
       " 'marital',\n",
       " 'martlfr',\n",
       " 'maritala',\n",
       " 'maritalb',\n",
       " 'lvghw',\n",
       " 'lvghwa',\n",
       " 'lvgoptn',\n",
       " 'lvgptn',\n",
       " 'lvgptna',\n",
       " 'lvgptne',\n",
       " 'lvgptnea',\n",
       " 'dvrcdev',\n",
       " 'dvrcdeva',\n",
       " 'chldhm',\n",
       " 'chldhhe',\n",
       " 'domicil',\n",
       " 'edulvla',\n",
       " 'edulvlb',\n",
       " 'eisced',\n",
       " 'edufld',\n",
       " 'eduyrs',\n",
       " 'pdwrk',\n",
       " 'edctn',\n",
       " 'uempla',\n",
       " 'uempli',\n",
       " 'dsbld',\n",
       " 'rtrd',\n",
       " 'cmsrv',\n",
       " 'hswrk',\n",
       " 'dngoth',\n",
       " 'dngdk',\n",
       " 'dngref',\n",
       " 'dngna',\n",
       " 'mainact',\n",
       " 'mnactic',\n",
       " 'crpdwk',\n",
       " 'pdjobev',\n",
       " 'pdjobyr',\n",
       " 'emplrel',\n",
       " 'emplno',\n",
       " 'wrkctr',\n",
       " 'wrkctra',\n",
       " 'estsz',\n",
       " 'jbspv',\n",
       " 'njbspv',\n",
       " 'wkdcorg',\n",
       " 'wkdcorga',\n",
       " 'iorgact',\n",
       " 'wkhct',\n",
       " 'wkhtot',\n",
       " 'nacer1',\n",
       " 'nacer11',\n",
       " 'nacer2',\n",
       " 'tporgwk',\n",
       " 'iscoco',\n",
       " 'isco08',\n",
       " 'wrkac6m',\n",
       " 'uemp3m',\n",
       " 'uemp12m',\n",
       " 'uemp5yr',\n",
       " 'mbtru',\n",
       " 'hincsrc',\n",
       " 'hincsrca',\n",
       " 'hinctnt',\n",
       " 'hinctnta',\n",
       " 'hincfel',\n",
       " 'brwmny',\n",
       " 'edulvlpa',\n",
       " 'edulvlpb',\n",
       " 'eiscedp',\n",
       " 'pdwrkp',\n",
       " 'edctnp',\n",
       " 'uemplap',\n",
       " 'uemplip',\n",
       " 'dsbldp',\n",
       " 'rtrdp',\n",
       " 'cmsrvp',\n",
       " 'hswrkp',\n",
       " 'dngothp',\n",
       " 'dngdkp',\n",
       " 'dngnapp',\n",
       " 'dngrefp',\n",
       " 'dngnap',\n",
       " 'mnactp',\n",
       " 'crpdwkp',\n",
       " 'iscocop',\n",
       " 'isco08p',\n",
       " 'emprelp',\n",
       " 'emplnop',\n",
       " 'jbspvp',\n",
       " 'njbspvp',\n",
       " 'wkdcorp',\n",
       " 'ioactp',\n",
       " 'wkhtotp',\n",
       " 'edulvlfa',\n",
       " 'edulvlfb',\n",
       " 'eiscedf',\n",
       " 'emprf14',\n",
       " 'emplnof',\n",
       " 'jbspvf',\n",
       " 'occf14',\n",
       " 'occf14a',\n",
       " 'occf14b',\n",
       " 'edulvlma',\n",
       " 'edulvlmb',\n",
       " 'eiscedm',\n",
       " 'emprm14',\n",
       " 'emplnom',\n",
       " 'jbspvm',\n",
       " 'occm14',\n",
       " 'occm14a',\n",
       " 'occm14b',\n",
       " 'atncrse',\n",
       " 'fxltph',\n",
       " 'mbltph',\n",
       " 'inttph']"
      ]
     },
     "execution_count": 41,
     "metadata": {},
     "output_type": "execute_result"
    }
   ],
   "source": [
    "ESS_data_frame.columns.values.tolist() # list of all column labels"
   ]
  },
  {
   "cell_type": "code",
   "execution_count": 42,
   "metadata": {
    "collapsed": false
   },
   "outputs": [
    {
     "data": {
      "text/plain": [
       "array(['BE', 'BG', 'CH', 'CY', 'CZ', 'DE', 'DK', 'EE', 'ES', 'FI', 'FR',\n",
       "       'GB', 'GR', 'HR', 'HU', 'IE', 'IL', 'IS', 'IT', 'LT', 'NL', 'NO',\n",
       "       'PL', 'PT', 'RU', 'SE', 'SI', 'SK', 'TR', 'UA'], dtype=object)"
      ]
     },
     "execution_count": 42,
     "metadata": {},
     "output_type": "execute_result"
    }
   ],
   "source": [
    "ESS_data_frame['cntry'].unique() # find all countries"
   ]
  },
  {
   "cell_type": "code",
   "execution_count": 43,
   "metadata": {
    "collapsed": false
   },
   "outputs": [
    {
     "data": {
      "text/plain": [
       "array([ 1.,  2.])"
      ]
     },
     "execution_count": 43,
     "metadata": {},
     "output_type": "execute_result"
    }
   ],
   "source": [
    "ESS_data_frame['ctzcntr'].dropna().unique()"
   ]
  },
  {
   "cell_type": "code",
   "execution_count": 44,
   "metadata": {
    "collapsed": false
   },
   "outputs": [
    {
     "data": {
      "text/plain": [
       "<matplotlib.axes._subplots.AxesSubplot at 0x1162a05f8>"
      ]
     },
     "execution_count": 44,
     "metadata": {},
     "output_type": "execute_result"
    },
    {
     "data": {
      "image/png": "[encoded data removed]",
      "text/plain": [
       "<matplotlib.figure.Figure at 0x1271a0438>"
      ]
     },
     "metadata": {},
     "output_type": "display_data"
    }
   ],
   "source": [
    "%matplotlib inline\n",
    "sns.countplot(x=\"ctzcntr\", data=ESS_data_frame)\n"
   ]
  },
  {
   "cell_type": "code",
   "execution_count": 45,
   "metadata": {
    "collapsed": false
   },
   "outputs": [
    {
     "data": {
      "text/plain": [
       "0    1.0\n",
       "1    1.0\n",
       "2    2.0\n",
       "3    1.0\n",
       "4    1.0\n",
       "Name: ctzcntr, dtype: float64"
      ]
     },
     "execution_count": 45,
     "metadata": {},
     "output_type": "execute_result"
    }
   ],
   "source": [
    "ESS_data_frame.ctzcntr.head()"
   ]
  },
  {
   "cell_type": "markdown",
   "metadata": {},
   "source": [
    "Let's create some dummy (indicator) variables."
   ]
  },
  {
   "cell_type": "code",
   "execution_count": 46,
   "metadata": {
    "collapsed": false
   },
   "outputs": [],
   "source": [
    "ESS_data_frame = pd.get_dummies(ESS_data_frame,columns=['ctzcntr'],drop_first=True)"
   ]
  },
  {
   "cell_type": "code",
   "execution_count": 47,
   "metadata": {
    "collapsed": false
   },
   "outputs": [],
   "source": [
    "ESS_data_frame.rename(columns={'ctzcntr_2.0': 'not_a_citizen_dummy'}, inplace=True)"
   ]
  },
  {
   "cell_type": "code",
   "execution_count": 48,
   "metadata": {
    "collapsed": false
   },
   "outputs": [
    {
     "data": {
      "text/html": [
       "<div>\n",
       "<table border=\"1\" class=\"dataframe\">\n",
       "  <thead>\n",
       "    <tr style=\"text-align: right;\">\n",
       "      <th></th>\n",
       "      <th>cntry</th>\n",
       "      <th>cname</th>\n",
       "      <th>cedition</th>\n",
       "      <th>cproddat</th>\n",
       "      <th>cseqno</th>\n",
       "      <th>name</th>\n",
       "      <th>essround</th>\n",
       "      <th>edition</th>\n",
       "      <th>idno</th>\n",
       "      <th>dweight</th>\n",
       "      <th>...</th>\n",
       "      <th>emplnom</th>\n",
       "      <th>jbspvm</th>\n",
       "      <th>occm14</th>\n",
       "      <th>occm14a</th>\n",
       "      <th>occm14b</th>\n",
       "      <th>atncrse</th>\n",
       "      <th>fxltph</th>\n",
       "      <th>mbltph</th>\n",
       "      <th>inttph</th>\n",
       "      <th>not_a_citizen_dummy</th>\n",
       "    </tr>\n",
       "  </thead>\n",
       "  <tbody>\n",
       "    <tr>\n",
       "      <th>0</th>\n",
       "      <td>BE</td>\n",
       "      <td>ESS1-6e01_1</td>\n",
       "      <td>1.1</td>\n",
       "      <td>09.03.2016</td>\n",
       "      <td>12394</td>\n",
       "      <td>ESS4e04_3</td>\n",
       "      <td>4</td>\n",
       "      <td>4.3</td>\n",
       "      <td>10202.0</td>\n",
       "      <td>1.0074</td>\n",
       "      <td>...</td>\n",
       "      <td>NaN</td>\n",
       "      <td>NaN</td>\n",
       "      <td>NaN</td>\n",
       "      <td>NaN</td>\n",
       "      <td>NaN</td>\n",
       "      <td>1.0</td>\n",
       "      <td>1.0</td>\n",
       "      <td>1.0</td>\n",
       "      <td>2.0</td>\n",
       "      <td>0.0</td>\n",
       "    </tr>\n",
       "    <tr>\n",
       "      <th>1</th>\n",
       "      <td>BE</td>\n",
       "      <td>ESS1-6e01_1</td>\n",
       "      <td>1.1</td>\n",
       "      <td>09.03.2016</td>\n",
       "      <td>12395</td>\n",
       "      <td>ESS4e04_3</td>\n",
       "      <td>4</td>\n",
       "      <td>4.3</td>\n",
       "      <td>10203.0</td>\n",
       "      <td>1.0074</td>\n",
       "      <td>...</td>\n",
       "      <td>NaN</td>\n",
       "      <td>2.0</td>\n",
       "      <td>NaN</td>\n",
       "      <td>NaN</td>\n",
       "      <td>5.0</td>\n",
       "      <td>1.0</td>\n",
       "      <td>2.0</td>\n",
       "      <td>1.0</td>\n",
       "      <td>2.0</td>\n",
       "      <td>0.0</td>\n",
       "    </tr>\n",
       "    <tr>\n",
       "      <th>2</th>\n",
       "      <td>BE</td>\n",
       "      <td>ESS1-6e01_1</td>\n",
       "      <td>1.1</td>\n",
       "      <td>09.03.2016</td>\n",
       "      <td>12396</td>\n",
       "      <td>ESS4e04_3</td>\n",
       "      <td>4</td>\n",
       "      <td>4.3</td>\n",
       "      <td>10207.0</td>\n",
       "      <td>1.0074</td>\n",
       "      <td>...</td>\n",
       "      <td>3.0</td>\n",
       "      <td>NaN</td>\n",
       "      <td>NaN</td>\n",
       "      <td>NaN</td>\n",
       "      <td>4.0</td>\n",
       "      <td>1.0</td>\n",
       "      <td>1.0</td>\n",
       "      <td>1.0</td>\n",
       "      <td>1.0</td>\n",
       "      <td>1.0</td>\n",
       "    </tr>\n",
       "    <tr>\n",
       "      <th>3</th>\n",
       "      <td>BE</td>\n",
       "      <td>ESS1-6e01_1</td>\n",
       "      <td>1.1</td>\n",
       "      <td>09.03.2016</td>\n",
       "      <td>12397</td>\n",
       "      <td>ESS4e04_3</td>\n",
       "      <td>4</td>\n",
       "      <td>4.3</td>\n",
       "      <td>10208.0</td>\n",
       "      <td>1.0074</td>\n",
       "      <td>...</td>\n",
       "      <td>NaN</td>\n",
       "      <td>NaN</td>\n",
       "      <td>NaN</td>\n",
       "      <td>NaN</td>\n",
       "      <td>NaN</td>\n",
       "      <td>1.0</td>\n",
       "      <td>1.0</td>\n",
       "      <td>1.0</td>\n",
       "      <td>2.0</td>\n",
       "      <td>0.0</td>\n",
       "    </tr>\n",
       "    <tr>\n",
       "      <th>4</th>\n",
       "      <td>BE</td>\n",
       "      <td>ESS1-6e01_1</td>\n",
       "      <td>1.1</td>\n",
       "      <td>09.03.2016</td>\n",
       "      <td>12398</td>\n",
       "      <td>ESS4e04_3</td>\n",
       "      <td>4</td>\n",
       "      <td>4.3</td>\n",
       "      <td>10302.0</td>\n",
       "      <td>1.0074</td>\n",
       "      <td>...</td>\n",
       "      <td>NaN</td>\n",
       "      <td>NaN</td>\n",
       "      <td>NaN</td>\n",
       "      <td>NaN</td>\n",
       "      <td>NaN</td>\n",
       "      <td>1.0</td>\n",
       "      <td>1.0</td>\n",
       "      <td>1.0</td>\n",
       "      <td>1.0</td>\n",
       "      <td>0.0</td>\n",
       "    </tr>\n",
       "  </tbody>\n",
       "</table>\n",
       "<p>5 rows × 268 columns</p>\n",
       "</div>"
      ],
      "text/plain": [
       "  cntry        cname cedition    cproddat  cseqno       name  essround  \\\n",
       "0    BE  ESS1-6e01_1      1.1  09.03.2016   12394  ESS4e04_3         4   \n",
       "1    BE  ESS1-6e01_1      1.1  09.03.2016   12395  ESS4e04_3         4   \n",
       "2    BE  ESS1-6e01_1      1.1  09.03.2016   12396  ESS4e04_3         4   \n",
       "3    BE  ESS1-6e01_1      1.1  09.03.2016   12397  ESS4e04_3         4   \n",
       "4    BE  ESS1-6e01_1      1.1  09.03.2016   12398  ESS4e04_3         4   \n",
       "\n",
       "  edition     idno  dweight         ...           emplnom  jbspvm  occm14  \\\n",
       "0     4.3  10202.0   1.0074         ...               NaN     NaN     NaN   \n",
       "1     4.3  10203.0   1.0074         ...               NaN     2.0     NaN   \n",
       "2     4.3  10207.0   1.0074         ...               3.0     NaN     NaN   \n",
       "3     4.3  10208.0   1.0074         ...               NaN     NaN     NaN   \n",
       "4     4.3  10302.0   1.0074         ...               NaN     NaN     NaN   \n",
       "\n",
       "   occm14a  occm14b  atncrse  fxltph  mbltph  inttph  not_a_citizen_dummy  \n",
       "0      NaN      NaN      1.0     1.0     1.0     2.0                  0.0  \n",
       "1      NaN      5.0      1.0     2.0     1.0     2.0                  0.0  \n",
       "2      NaN      4.0      1.0     1.0     1.0     1.0                  1.0  \n",
       "3      NaN      NaN      1.0     1.0     1.0     2.0                  0.0  \n",
       "4      NaN      NaN      1.0     1.0     1.0     1.0                  0.0  \n",
       "\n",
       "[5 rows x 268 columns]"
      ]
     },
     "execution_count": 48,
     "metadata": {},
     "output_type": "execute_result"
    }
   ],
   "source": [
    "ESS_data_frame.head()"
   ]
  },
  {
   "cell_type": "code",
   "execution_count": null,
   "metadata": {
    "collapsed": false
   },
   "outputs": [],
   "source": []
  },
  {
   "cell_type": "code",
   "execution_count": null,
   "metadata": {
    "collapsed": true
   },
   "outputs": [],
   "source": []
  }
 ],
 "metadata": {
  "anaconda-cloud": {},
  "kernelspec": {
   "display_name": "Python [conda root]",
   "language": "python",
   "name": "conda-root-py"
  },
  "language_info": {
   "codemirror_mode": {
    "name": "ipython",
    "version": 3
   },
   "file_extension": ".py",
   "mimetype": "text/x-python",
   "name": "python",
   "nbconvert_exporter": "python",
   "pygments_lexer": "ipython3",
   "version": "3.5.2"
  }
 },
 "nbformat": 4,
 "nbformat_minor": 0
}
