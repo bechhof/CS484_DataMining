{
 "cells": [
  {
   "cell_type": "markdown",
   "metadata": {},
   "source": [
    "First, we import the `zipfile` module to enable us to extract the Stata `dta` file."
   ]
  },
  {
   "cell_type": "code",
   "execution_count": 1,
   "metadata": {
    "collapsed": true
   },
   "outputs": [],
   "source": [
    "import zipfile"
   ]
  },
  {
   "cell_type": "markdown",
   "metadata": {},
   "source": [
    "We used the [ESS Cumulative Data Wizard](http://www.europeansocialsurvey.org/downloadwizard) to obtain a file containing all of the variables within the following categories:\n",
    "* Subjective well-being, social exclusion; religion; percieved discrimination; national and ethnic identity (only the ESS standard variables)\n",
    "* Gender, age and household composition\n",
    "* Socio-demographic profile, including: type of area, education and occupation, union membership, income, marital status (only the ESS standard variables)\n",
    "\n",
    "We did **not** use the country specific variables because we relied on the recoding done by the ESS staff. For example, we did not need the responses to a question asked in German, as the answers were incorporated in the ESS standard variables in a uniform manner."
   ]
  },
  {
   "cell_type": "code",
   "execution_count": 2,
   "metadata": {
    "collapsed": true
   },
   "outputs": [],
   "source": [
    "with zipfile.ZipFile(\"output7632726663755414375.zip\",\"r\") as zip_ref:\n",
    "    zip_ref.extractall(\"ESS_Cumulative\")"
   ]
  },
  {
   "cell_type": "code",
   "execution_count": null,
   "metadata": {
    "collapsed": true
   },
   "outputs": [],
   "source": []
  }
 ],
 "metadata": {
  "kernelspec": {
   "display_name": "Python [conda root]",
   "language": "python",
   "name": "conda-root-py"
  },
  "language_info": {
   "codemirror_mode": {
    "name": "ipython",
    "version": 3
   },
   "file_extension": ".py",
   "mimetype": "text/x-python",
   "name": "python",
   "nbconvert_exporter": "python",
   "pygments_lexer": "ipython3",
   "version": "3.5.2"
  }
 },
 "nbformat": 4,
 "nbformat_minor": 0
}
